{
 "cells": [
  {
   "cell_type": "markdown",
   "metadata": {},
   "source": [
    "**今回の実習内容**\n",
    " * 関数について\n",
    " * OpenCVを利用した画像処理\n",
    " * 相関係数の計算\n",
    " * 実習課題"
   ]
  },
  {
   "cell_type": "markdown",
   "metadata": {},
   "source": [
    "**モジュールのインポート**"
   ]
  },
  {
   "cell_type": "code",
   "execution_count": null,
   "metadata": {},
   "outputs": [],
   "source": [
    "import sys, math, os\n",
    "import numpy as np\n",
    "import time\n",
    "import copy\n",
    "import tifffile as tiff\n",
    "from matplotlib import pyplot as plt\n",
    "\n",
    "# OpenCV, Pillowのインポート\n",
    "import cv2   # opencvだけどimportの時はcv2\n",
    "from PIL import Image   # Pillowだけどimportの時はPIL"
   ]
  },
  {
   "cell_type": "markdown",
   "metadata": {},
   "source": [
    "**Pythonの基礎：関数について**\n",
    " * 関数：y = f(x), xに対してyを返す\n",
    " * プログラミングにおける関数：入力に対して出力を返す\n",
    "   *  入力された配列の平均値を出力する\n",
    "   *  入力ファイル名を読んで画像を出力する\n",
    "   *  入力なしで、呼ばれると円周率の値だけを返す\n",
    " * 入力(**引数, argument**)は複数あってもいい"
   ]
  },
  {
   "cell_type": "code",
   "execution_count": null,
   "metadata": {},
   "outputs": [],
   "source": [
    "# 関数の例\n",
    "# JupyterLabでは1つのセルに1つの関数を定義するのがおすすめ\n",
    "\n",
    "# 角度と並進ベクトル(任意)を入力すると同次変換行列を返す関数\n",
    "def RotationMatrix2D(theta, angunit, tx=0.0, ty=0.0):\n",
    "    if not ((angunit=='deg') or (angunit=='rad')):\n",
    "        print(\"Error: invalid angular unit\")\n",
    "        sys.exit()\n",
    "\n",
    "    if (angunit=='deg'):\n",
    "        theta *= np.pi / 180.0\n",
    "\n",
    "    # 詳細は省くが、ここでは一番下の[0,0,1]の行は考えなくてよい\n",
    "    r2d = np.zeros((2,3), dtype=float)\n",
    "    r2d[0,0] = np.cos(theta)\n",
    "    r2d[0,1] = -1.0 * math.sin(theta)\n",
    "    r2d[1,0] = np.sin(theta)\n",
    "    r2d[1,1] = np.cos(theta)\n",
    "    r2d[0,2] = tx\n",
    "    r2d[1,2] = ty\n",
    "\n",
    "    return r2d"
   ]
  },
  {
   "cell_type": "code",
   "execution_count": null,
   "metadata": {},
   "outputs": [],
   "source": [
    "# 並進だけする同次変換行列を返す関数\n",
    "def TranslationMatrix2D(tx=0.0, ty=0.0):\n",
    "    r2d = np.zeros((2,3), dtype=float)\n",
    "    r2d[0,0] = 1.0\n",
    "    r2d[0,1] = 0.0\n",
    "    r2d[1,0] = 0.0\n",
    "    r2d[1,1] = 1.0\n",
    "    r2d[0,2] = tx\n",
    "    r2d[1,2] = ty\n",
    "\n",
    "    return r2d"
   ]
  },
  {
   "cell_type": "code",
   "execution_count": null,
   "metadata": {},
   "outputs": [],
   "source": [
    "# 関数の使用例\n",
    "\n",
    "# degree\n",
    "theta = 30\n",
    "tx = 1.5\n",
    "ty = 1.5\n",
    "\n",
    "rot1 = RotationMatrix2D(theta, 'deg', tx, ty)\n",
    "\n",
    "print('rotation matrix in theta = 30 deg:')\n",
    "print(rot1)"
   ]
  },
  {
   "cell_type": "code",
   "execution_count": null,
   "metadata": {},
   "outputs": [],
   "source": [
    "# radian\n",
    "\n",
    "rot2 = RotationMatrix2D(np.pi/2.0, 'rad')\n",
    "\n",
    "print('')\n",
    "print('rotation matrix in theta = pi / 2 rad:')\n",
    "print(rot2)"
   ]
  },
  {
   "cell_type": "code",
   "execution_count": null,
   "metadata": {},
   "outputs": [],
   "source": [
    "# invalid angular unit\n",
    "\n",
    "rot3 = RotationMatrix2D(45, 'aaa') "
   ]
  },
  {
   "cell_type": "code",
   "execution_count": null,
   "metadata": {},
   "outputs": [],
   "source": [
    "# システムやモジュールの関数を使ってみる\n",
    "# ndarrayの関数\n",
    "\n",
    "a = np.array([[1,2],[3,4],[5,6]])   # 3行2列の配列\n",
    "print('2D array a:')\n",
    "print(a)"
   ]
  },
  {
   "cell_type": "code",
   "execution_count": null,
   "metadata": {},
   "outputs": [],
   "source": [
    "# 配列の形状を返す関数 shape\n",
    "print('shape of a: ', a.shape)   # shape自体が配列\n",
    "\n",
    "print('row size of a: ', a.shape[0])   # 行サイズを出力\n",
    "print('column size of a: ', a.shape[1])      # 列サイズを出力"
   ]
  },
  {
   "cell_type": "code",
   "execution_count": null,
   "metadata": {},
   "outputs": [],
   "source": [
    "# 配列の和を返す関数 sum\n",
    "print('sum of a: ', a.sum())   # 要素全体の和\n",
    "print('sum over row: ', a.sum(axis=0))   # 行について和をとる\n",
    "print('sum over col: ', a.sum(axis=1))   # 列について和をとる"
   ]
  },
  {
   "cell_type": "code",
   "execution_count": null,
   "metadata": {},
   "outputs": [],
   "source": [
    "# 配列の平均を返す関数 mean\n",
    "print('mean of a: ', a.mean())   # 要素全体の平均\n",
    "print('mean over row: ', a.mean(axis=0))   # 行について平均をとる\n",
    "print('mean over col: ', a.mean(axis=1))   # 列について平均をとる"
   ]
  },
  {
   "cell_type": "markdown",
   "metadata": {},
   "source": [
    "**その他についても nkmk note で確認可能**"
   ]
  },
  {
   "cell_type": "markdown",
   "metadata": {},
   "source": [
    "**OpenCVを使って画像を回転させてみる**\n",
    " * 画像を読み込む\n",
    " * 回転角を決めて、同次変換行列を計算する\n",
    " * 同次変換行列を使って画像を回転させる\n",
    " * 回転後の画像を表示"
   ]
  },
  {
   "cell_type": "code",
   "execution_count": null,
   "metadata": {},
   "outputs": [],
   "source": [
    "# 画像の読み込み\n",
    "\n",
    "fn_in = './data/test_yoshizawa.tif'\n",
    "image = tiff.imread(fn_in)\n",
    "print(image.shape)\n",
    "\n",
    "ysize = image.shape[0]   # 行のサイズなのでy\n",
    "xsize = image.shape[1]   # 列のサイズなのでx\n",
    "\n",
    "plt.imshow(image, cmap='Greys')"
   ]
  },
  {
   "cell_type": "code",
   "execution_count": null,
   "metadata": {},
   "outputs": [],
   "source": [
    "# 回転行列の計算\n",
    "\n",
    "theta = 45 # 度回す\n",
    "\n",
    "rot = RotationMatrix2D(-1.0*theta, 'deg', -91.127, 220)   # なぜtheta, tx, tyの値がこうなるかは後で説明\n",
    "print(rot)"
   ]
  },
  {
   "cell_type": "code",
   "execution_count": null,
   "metadata": {},
   "outputs": [],
   "source": [
    "# 回転画像の計算\n",
    "\n",
    "# 使い方は 回転画像 = cv2.warpAffine(元画像, 同次変換行列, (xsize, ysize), 補間方法)\n",
    "# 下ではBilinearを指定\n",
    "rotimage = cv2.warpAffine(image, rot, (xsize, ysize), flags=cv2.INTER_LINEAR)\n",
    "\n",
    "# 回転後の画像を表示\n",
    "plt.imshow(rotimage, cmap='Greys')"
   ]
  },
  {
   "cell_type": "markdown",
   "metadata": {},
   "source": [
    "**先ほどの妙な同次変換行列について**\n",
    " * 実はcv2.warpAffineは定義通りの変換行列を入力するとうまくいかない\n",
    " * うまくいく行列はcv2.getRotationMatrix2Dで計算可能\n",
    " * getRotationMatrix2D((xcenter, ycenter), theta, scale(縮尺なので1.0でOK))"
   ]
  },
  {
   "cell_type": "code",
   "execution_count": null,
   "metadata": {},
   "outputs": [],
   "source": [
    "# opencvでの変換行列の計算\n",
    "\n",
    "rot_cv2 = cv2.getRotationMatrix2D((xsize / 2., ysize / 2.), theta, 1.0)\n",
    "\n",
    "print(rot_cv2)"
   ]
  },
  {
   "cell_type": "code",
   "execution_count": null,
   "metadata": {},
   "outputs": [],
   "source": [
    "# 並進だけをする場合\n",
    "\n",
    "trans = TranslationMatrix2D(50,100)\n",
    "\n",
    "transimage = cv2.warpAffine(image, trans, (xsize, ysize), flags=cv2.INTER_LINEAR)\n",
    "\n",
    "plt.imshow(transimage, cmap='Greys')"
   ]
  },
  {
   "cell_type": "markdown",
   "metadata": {},
   "source": [
    "**別のライブラリ、Pillowによる回転**\n",
    " * Pillowを使う場合、変換行列の計算を挟まず回転角と中心を指定すればそのまま変換できる\n",
    " * ただし、Pillowを使うなら最初からPillowを使って開かなければいけない"
   ]
  },
  {
   "cell_type": "code",
   "execution_count": null,
   "metadata": {},
   "outputs": [],
   "source": [
    "# Pillowによる画像の回転\n",
    "\n",
    "# 画像の読み込み\n",
    "pilimage = Image.open(fn_in)\n",
    "\n",
    "# 画像のサイズを表示 (array.shapeと同じ操作)\n",
    "print(pilimage.size)\n",
    "\n",
    "# 画像の回転\n",
    "rot_pilimage = pilimage.rotate(45, resample=Image.BILINEAR)\n",
    "\n",
    "a = np.asarray(rot_pilimage)\n",
    "plt.imshow(a, cmap='Greys')\n",
    "\n",
    "# 回転画像の書き出し\n",
    "#fn_out = './course02/test_yoshizawa_pilrot.tif'\n",
    "#rot_pilimage.save(fn_out)\n",
    "\n",
    "# 保存した画像の読み込み、表示\n",
    "#saved_image = tiff.imread(fn_out)\n",
    "#plt.imshow(saved_image, cmap='Greys')"
   ]
  },
  {
   "cell_type": "markdown",
   "metadata": {},
   "source": [
    "**相関係数の計算**"
   ]
  },
  {
   "cell_type": "code",
   "execution_count": null,
   "metadata": {},
   "outputs": [],
   "source": [
    "# 関数を定義しておく\n",
    "\n",
    "def calc_cc(x,y):\n",
    "\n",
    "    x -= x.mean()\n",
    "    y -= y.mean()\n",
    "\n",
    "    frac = 0.\n",
    "    denom_x = 0.\n",
    "    denom_y = 0.\n",
    "    for k in range(x.size):\n",
    "        frac += x[k] * y[k]\n",
    "        denom_x += x[k] * x[k]\n",
    "        denom_y += y[k] * y[k]\n",
    "\n",
    "    return frac / math.sqrt(denom_x * denom_y)\n"
   ]
  },
  {
   "cell_type": "markdown",
   "metadata": {},
   "source": [
    "**座学資料と同様のcc計算を座標を選んでやってみる**"
   ]
  },
  {
   "cell_type": "code",
   "execution_count": null,
   "metadata": {},
   "outputs": [],
   "source": [
    "# テンプレート画像の読み込み\n",
    "\n",
    "fn_temp = './data/test_yoshizawa_cc_template.tif'\n",
    "template = tiff.imread(fn_temp)\n",
    "print(template.shape)\n",
    "\n",
    "ytemp = template.shape[0]   # 行のサイズなのでy\n",
    "xtemp = template.shape[1]   # 列のサイズなのでx\n",
    "\n",
    "template1d = template.flatten()\n",
    "\n",
    "plt.imshow(template, cmap='Greys')"
   ]
  },
  {
   "cell_type": "code",
   "execution_count": null,
   "metadata": {},
   "outputs": [],
   "source": [
    "# ccを計算する領域の中心座標を指定\n",
    "xcenter = 124   # 0 <= xcenter <= 224\n",
    "ycenter = 132   # 0 <= ycenter <= 224\n",
    "\n",
    "# 元画像の読み込み\n",
    "fn_in = './data/test_yoshizawa_cc.tif'\n",
    "image = tiff.imread(fn_in)\n",
    "\n",
    "ysize = image.shape[0]   # 行のサイズなのでy\n",
    "xsize = image.shape[1]   # 列のサイズなのでx\n",
    "\n",
    "# ccを計算するエリアの設定\n",
    "xmin = int(xcenter - (xtemp / 2))\n",
    "xmax = int(xcenter + (xtemp / 2))\n",
    "xrange = int(xmax - xmin)\n",
    "\n",
    "ymin = int(ycenter - (ytemp / 2))\n",
    "ymax = int(ycenter + (ytemp / 2))\n",
    "yrange = int(ymax - ymin)\n",
    "\n",
    "print('xrange: ', xmin, ' <= x <= ', xmax, ', ', xrange)\n",
    "print('yrange: ', ymin, ' <= y <= ', ymax, ', ', yrange)\n",
    "\n",
    "# xcenter, ycenterを元にテンプレートと比較する領域を切り出し\n",
    "ccarea = image[xmin:xmax, ymin:ymax].flatten()\n",
    "\n",
    "# ccを計算\n",
    "cc = calc_cc(template1d, ccarea)\n",
    "print(cc)\n",
    "\n",
    "# ccの値を中心座標でプロット\n",
    "plt.imshow(image, cmap='Greys')\n",
    "cmap = plt.get_cmap('jet')\n",
    "plt.scatter(xcenter, ycenter, c=cc, vmin=-1.0, vmax=1.0, s=30, cmap=cmap, lw=0.75, edgecolors='k')"
   ]
  },
  {
   "cell_type": "markdown",
   "metadata": {},
   "source": [
    "**実習課題**\n",
    " * 以下の画像のテンプレートピックをしてみましょう\n",
    " * ただし、回転なし、並進だけでできるようになっています\n",
    " * for文で画像領域を繰り返し変えてccを計算してみましょう\n",
    " * 正しい位置の近傍もccが高くなってしまいますが、正しい位置では1.0(0.9999999...)になるはず\n",
    " * 上の条件を使えば正しい位置だけピックできます\n",
    " * 実際に粒子像を切り出して確認してみるとさらによいです"
   ]
  },
  {
   "cell_type": "markdown",
   "metadata": {},
   "source": [
    "**テンプレート**"
   ]
  },
  {
   "cell_type": "code",
   "execution_count": null,
   "metadata": {},
   "outputs": [],
   "source": [
    "fn_temp = './data/course2_bgal_temp.tif'\n",
    "template = tiff.imread(fn_temp)\n",
    "\n",
    "plt.imshow(template, cmap='Greys')"
   ]
  },
  {
   "cell_type": "markdown",
   "metadata": {},
   "source": [
    "**テスト画像**"
   ]
  },
  {
   "cell_type": "code",
   "execution_count": null,
   "metadata": {},
   "outputs": [],
   "source": [
    "fn_mic = './data/course2_bgal.tif'\n",
    "micrograph = tiff.imread(fn_mic)\n",
    "\n",
    "plt.imshow(micrograph, cmap='Greys')"
   ]
  },
  {
   "cell_type": "markdown",
   "metadata": {},
   "source": [
    "**発展課題**\n",
    " * 回転込みのテンプレートピックをしてみましょう\n",
    " * 回転は10度単位です\n",
    " * そのままやると横ピクセル数x縦ピクセル数x回転のステップ数になって大変です\n",
    " * まず並進だけで相関が高そうなところを集めて、そこだけで回転込みのcc計算をするとラクできると思います\n",
    " * ただし、実際のテンプレートピックでそういうことをしているわけではないです"
   ]
  },
  {
   "cell_type": "code",
   "execution_count": null,
   "metadata": {},
   "outputs": [],
   "source": [
    "fn_mic_rot = './data/course2_bgal_rot.tif'\n",
    "micrograph_rot = tiff.imread(fn_mic_rot)\n",
    "\n",
    "plt.imshow(micrograph_rot, cmap='Greys')"
   ]
  }
 ],
 "metadata": {
  "kernelspec": {
   "display_name": "Python 3 (ipykernel)",
   "language": "python",
   "name": "python3"
  },
  "language_info": {
   "codemirror_mode": {
    "name": "ipython",
    "version": 3
   },
   "file_extension": ".py",
   "mimetype": "text/x-python",
   "name": "python",
   "nbconvert_exporter": "python",
   "pygments_lexer": "ipython3",
   "version": "3.12.4"
  }
 },
 "nbformat": 4,
 "nbformat_minor": 4
}

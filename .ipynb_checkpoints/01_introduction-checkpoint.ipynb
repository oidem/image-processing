{
 "cells": [
  {
   "cell_type": "markdown",
   "id": "d95484ac-7021-4546-b77f-5cf3ea020645",
   "metadata": {},
   "source": [
    "**JupyterLabの説明**\n",
    "1. セルについて\n",
    "    * プログラム、あるいはテキストの1つのまとまり\n",
    "    * Markdown：説明に使える、見せ方を編集可能なテキスト(このセル)\n",
    "    * Code：実行可能なプログラムとしてのセル (左に[ ]がついてる)\n",
    "    * Raw：ただのテキスト"
   ]
  },
  {
   "cell_type": "markdown",
   "id": "03e8003c-258b-420a-9a2c-a66bc91f0342",
   "metadata": {},
   "source": [
    "2. セルの実行\n",
    "   * (セル内で)enter：セルの中で改行\n",
    "   * ctrl + enter (command + enter)：セルの実行(Code, Markdown)\n",
    "   * shift + enter：セルの実行 + 下に新規セルを挿入"
   ]
  },
  {
   "cell_type": "code",
   "execution_count": 1,
   "id": "97379417-79dd-4ddc-b5ce-d24cc872b55d",
   "metadata": {},
   "outputs": [
    {
     "name": "stdout",
     "output_type": "stream",
     "text": [
      "x + y =  5\n"
     ]
    }
   ],
   "source": [
    "# このセルを実行してみる\n",
    "x = 2\n",
    "y = 3\n",
    "print(\"x + y = \", x+y) # x + y = 5 と表示される"
   ]
  },
  {
   "cell_type": "markdown",
   "id": "4289822b-ed4f-4489-9b20-a5f844bb463c",
   "metadata": {},
   "source": [
    "**今回の実習では既に存在するcodeセルを編集する形で進める**"
   ]
  },
  {
   "cell_type": "markdown",
   "id": "77135bc0-7499-4eb9-a473-2bd25bf7b321",
   "metadata": {},
   "source": [
    "**Pythonについて**\n",
    "\n",
    "以下はpythonで書いた一般的なプログラムの形式である"
   ]
  },
  {
   "cell_type": "raw",
   "id": "fb5b47c6-5b21-40b0-8e25-697f970d437f",
   "metadata": {},
   "source": [
    "### module import part\n",
    "import numpy as np\n",
    "\n",
    "### function part\n",
    "def average(x):\n",
    "    averaged = 0.\n",
    "    for i in range(x.size):\n",
    "        averaged += x[i]\n",
    "\n",
    "    averaged /= x.size\n",
    "\n",
    "    return averaged\n",
    "\n",
    "# main part of this program\n",
    "x = np.arange(-4, 8)\n",
    "print(\"input array x: \")\n",
    "print(x)\n",
    "\n",
    "avex = average(x)\n",
    "print(\"\")\n",
    "print(\"average value of x:\", avex)"
   ]
  },
  {
   "cell_type": "markdown",
   "id": "1c01b90c-08d2-4074-9393-687b5a380da5",
   "metadata": {},
   "source": [
    "**ただし、notebook上ではこれをpart毎に分解して書いていいし、なんならもっと分解してもいい**\n",
    "\n",
    "**(ただし、実行順の管理などが面倒になる)**"
   ]
  },
  {
   "cell_type": "markdown",
   "id": "c447cf4b-ddd7-47e4-82f3-1308604194e8",
   "metadata": {},
   "source": [
    "**コメントアウトについて**\n",
    "   * #より右側は単なるコメントとして認識され、プログラムに反映されない\n",
    "   * 注意点や自分用メモ、わかりやすさなどのために適宜使用する"
   ]
  },
  {
   "cell_type": "code",
   "execution_count": 2,
   "id": "69eef55c-2653-4059-befd-aff6e1320df8",
   "metadata": {},
   "outputs": [
    {
     "name": "stdout",
     "output_type": "stream",
     "text": [
      "z =  5\n",
      "z =  2\n"
     ]
    }
   ],
   "source": [
    "x = 2\n",
    "y = 3\n",
    "\n",
    "z = x + y\n",
    "print(\"z = \", z)\n",
    "\n",
    "# + y は認識されない！\n",
    "z = x # + y\n",
    "print(\"z = \", z)"
   ]
  },
  {
   "cell_type": "markdown",
   "id": "6f9f8807-c41b-4ded-9be2-f8e87668dc5d",
   "metadata": {},
   "source": [
    "**モジュールのインポート**\n",
    "   * numpyなどの便利なモジュール、ライブラリを使うためには「インポート」が必要\n",
    "   * モジュールをインポートすれば、例えば行列の対角化を一発でやってくれたりする"
   ]
  },
  {
   "cell_type": "code",
   "execution_count": 3,
   "id": "b049cd44-b18a-4a30-867f-a5e32c21a6d4",
   "metadata": {},
   "outputs": [],
   "source": [
    "# 大出がとりあえずデフォルトでインポートしてるセット\n",
    "import sys, math, os\n",
    "import numpy as np   # asでモジュール名を変更可能\n",
    "import time\n",
    "\n",
    "# グラフを作りたければ以下の行を追加\n",
    "# from matplotlib import pyplot as plt"
   ]
  },
  {
   "cell_type": "markdown",
   "id": "78bf6d9f-987a-4cca-88d6-4af52c4b3c01",
   "metadata": {},
   "source": [
    "**変数の型について**\n",
    "   * 変数：計算機から見るとどれも0と1の並び → 変数の「型」によってどんな値なのかを識別する\n",
    "   * integer：整数型\n",
    "   * float：実数型\n",
    "   * bool：論理型(True or False)\n",
    "   * str(string)：文字列型"
   ]
  },
  {
   "cell_type": "code",
   "execution_count": 4,
   "id": "3fc9431d-919c-432f-a141-f909de18f46b",
   "metadata": {},
   "outputs": [
    {
     "name": "stdout",
     "output_type": "stream",
     "text": [
      "type of x is <class 'int'>\n"
     ]
    }
   ],
   "source": [
    "# type()：変数の型を出力\n",
    "# print()：コンソールに出力\n",
    "\n",
    "x = 1\n",
    "print(\"type of x is\", type(x))"
   ]
  },
  {
   "cell_type": "code",
   "execution_count": 5,
   "id": "b945ba13-fb3b-40e7-997d-7494a10df008",
   "metadata": {},
   "outputs": [
    {
     "name": "stdout",
     "output_type": "stream",
     "text": [
      "type of x is <class 'float'>\n"
     ]
    }
   ],
   "source": [
    "y = 2.0\n",
    "print(\"type of x is\", type(y))"
   ]
  },
  {
   "cell_type": "code",
   "execution_count": 6,
   "id": "ef0022ea-29db-4bb2-b20f-7e497e6b7ce6",
   "metadata": {},
   "outputs": [
    {
     "name": "stdout",
     "output_type": "stream",
     "text": [
      "type of flag is <class 'bool'>\n"
     ]
    }
   ],
   "source": [
    "flag = True\n",
    "print(\"type of flag is\", type(flag))"
   ]
  },
  {
   "cell_type": "code",
   "execution_count": 7,
   "id": "e101a5f8-84bd-4c95-96c1-51fc45ce65e8",
   "metadata": {},
   "outputs": [
    {
     "name": "stdout",
     "output_type": "stream",
     "text": [
      "type of filename is <class 'str'>\n"
     ]
    }
   ],
   "source": [
    "filename = \"sample.dat\"\n",
    "print(\"type of filename is\", type(filename))"
   ]
  },
  {
   "cell_type": "markdown",
   "id": "7a222443-8699-402e-bdec-bce4908f719f",
   "metadata": {},
   "source": [
    "   * pythonは型を自動で判定したり変換してくれるので、あまり気にしなくていい"
   ]
  },
  {
   "cell_type": "code",
   "execution_count": null,
   "id": "84ea2007-33fc-44a8-ba75-78373662a89c",
   "metadata": {},
   "outputs": [],
   "source": [
    "# 整数xと実数yの足し算\n",
    "z = x + y\n",
    "print(\"z = \", z)\n",
    "print(\"type of z is\", type(y))"
   ]
  },
  {
   "cell_type": "markdown",
   "id": "bb44e086-f40d-4c94-b80e-59b1dd3f71fd",
   "metadata": {},
   "source": [
    "   * ただし、いくつか例外があるので気をつける\n",
    "     * 数値型と文字列型は一緒くたに扱えない\n",
    "     * 配列の型は後から変更できない（後で詳しく）"
   ]
  },
  {
   "cell_type": "code",
   "execution_count": 8,
   "id": "e67a0c85-0c93-410e-a4ab-9bf23279c391",
   "metadata": {},
   "outputs": [
    {
     "name": "stdout",
     "output_type": "stream",
     "text": [
      "type of x is  <class 'str'>\n",
      "type of y is  <class 'int'>\n",
      "\n"
     ]
    },
    {
     "ename": "TypeError",
     "evalue": "can only concatenate str (not \"int\") to str",
     "output_type": "error",
     "traceback": [
      "\u001b[0;31m---------------------------------------------------------------------------\u001b[0m",
      "\u001b[0;31mTypeError\u001b[0m                                 Traceback (most recent call last)",
      "Cell \u001b[0;32mIn[8], line 9\u001b[0m\n\u001b[1;32m      5\u001b[0m \u001b[38;5;28mprint\u001b[39m(\u001b[38;5;124m\"\u001b[39m\u001b[38;5;124mtype of y is \u001b[39m\u001b[38;5;124m\"\u001b[39m, \u001b[38;5;28mtype\u001b[39m(y) )\n\u001b[1;32m      7\u001b[0m \u001b[38;5;28mprint\u001b[39m(\u001b[38;5;124m\"\u001b[39m\u001b[38;5;124m\"\u001b[39m)\n\u001b[0;32m----> 9\u001b[0m z \u001b[38;5;241m=\u001b[39m \u001b[43mx\u001b[49m\u001b[43m \u001b[49m\u001b[38;5;241;43m+\u001b[39;49m\u001b[43m \u001b[49m\u001b[43my\u001b[49m\n",
      "\u001b[0;31mTypeError\u001b[0m: can only concatenate str (not \"int\") to str"
     ]
    }
   ],
   "source": [
    "# 数値と文字列をごっちゃにするとこうなる\n",
    "x = \"2\"\n",
    "print(\"type of x is \", type(x) )\n",
    "y = 3\n",
    "print(\"type of y is \", type(y) )\n",
    "\n",
    "print(\"\")\n",
    "\n",
    "z = x + y"
   ]
  },
  {
   "cell_type": "markdown",
   "id": "ea341c1c-76bf-4aca-9eb1-d3d6a88ab0ee",
   "metadata": {},
   "source": [
    "**超重要な型その1：リスト**\n",
    "   * 要するに配列のための型だが、以下のような特徴を持つ\n",
    "   * 数値と文字列ごっちゃにした配列を扱える\n",
    "   * 今ある配列に自由に要素を追加、削除できる(ただし先頭側をいじるのは遅い)"
   ]
  },
  {
   "cell_type": "code",
   "execution_count": 9,
   "id": "8d75476d-d1e0-4ff3-ac20-1e672e8c7f10",
   "metadata": {},
   "outputs": [
    {
     "name": "stdout",
     "output_type": "stream",
     "text": [
      "type of a is  <class 'list'>\n",
      "size of a:  3\n"
     ]
    }
   ],
   "source": [
    "# 配列の生成\n",
    "a = [2.0,3.0,4.0]\n",
    "print(\"type of a is \", type(a))\n",
    "print(\"size of a: \", len(a))"
   ]
  },
  {
   "cell_type": "code",
   "execution_count": 10,
   "id": "baab5d06-4e42-4d73-8dd9-9743b39e6477",
   "metadata": {},
   "outputs": [
    {
     "name": "stdout",
     "output_type": "stream",
     "text": [
      "type of b is  <class 'list'>\n",
      "size of b:  0\n"
     ]
    }
   ],
   "source": [
    "# 空の配列でもOK\n",
    "b = []\n",
    "print(\"type of b is \", type(b))\n",
    "print(\"size of b: \", len(b))"
   ]
  },
  {
   "cell_type": "code",
   "execution_count": 11,
   "id": "bffb386b-072b-4956-b3ca-47131d586bf2",
   "metadata": {},
   "outputs": [
    {
     "name": "stdout",
     "output_type": "stream",
     "text": [
      "[2.0, 3.0, 4.0, '5.0']\n"
     ]
    }
   ],
   "source": [
    "# a に文字列を追加\n",
    "a.append(\"5.0\")\n",
    "print(a)"
   ]
  },
  {
   "cell_type": "code",
   "execution_count": 12,
   "id": "c7661151-6127-48c0-94eb-d11a7235da0e",
   "metadata": {},
   "outputs": [
    {
     "name": "stdout",
     "output_type": "stream",
     "text": [
      "[[1.0, 3.0], [2.0, 4.0]]\n"
     ]
    }
   ],
   "source": [
    "# リストのリストで多次元配列を表現可能\n",
    "x = [1.0,3.0]\n",
    "y = [2.0,4.0]\n",
    "z = []\n",
    "z.append(x)\n",
    "z.append(y)\n",
    "print(z)"
   ]
  },
  {
   "cell_type": "markdown",
   "id": "f7eaa7d2-5c6b-472c-b0ac-3802b906b066",
   "metadata": {},
   "source": [
    "**超重要な型その2：配列**\n",
    "   * arrayとndarrayの2種類があるが、基本ndarrayだけでよい\n",
    "   * **ndarrayを使うにはnumpyのimportが必須**\n",
    "   * リストと比較すると以下のような違いがある\n",
    "   * 最初に決めた単一の型しか扱えない\n",
    "   * 最初に決めた配列サイズから変更できない\n",
    "   * 画像解析ではほぼ確実にリストではなくこちらを使う"
   ]
  },
  {
   "cell_type": "code",
   "execution_count": 13,
   "id": "7e35f8d4-e2d0-4571-a739-0bc771329b0c",
   "metadata": {},
   "outputs": [
    {
     "name": "stdout",
     "output_type": "stream",
     "text": [
      "[2 3 4]\n",
      "2\n",
      "<class 'numpy.int64'>\n"
     ]
    }
   ],
   "source": [
    "# numpyはすでにimport済み\n",
    "\n",
    "# ndarrayの生成\n",
    "a = np.array([2,3,4])\n",
    "print(a)\n",
    "\n",
    "# 配列要素へのアクセス\n",
    "print(a[0])    # 1番目の要素へアクセス\n",
    "print(type(a[0]))"
   ]
  },
  {
   "cell_type": "code",
   "execution_count": 14,
   "id": "0163eef6-a71e-492d-8b09-e45142e41903",
   "metadata": {},
   "outputs": [
    {
     "name": "stdout",
     "output_type": "stream",
     "text": [
      "[2. 3. 4.]\n"
     ]
    }
   ],
   "source": [
    "# typeを指定する場合\n",
    "af = np.array([2,3,4], dtype=float)\n",
    "print(af)"
   ]
  },
  {
   "cell_type": "code",
   "execution_count": 15,
   "id": "3825d2b1-7421-41fc-829e-80f53fcc1791",
   "metadata": {},
   "outputs": [
    {
     "name": "stdout",
     "output_type": "stream",
     "text": [
      "x =  [0. 0. 0. 0.]\n",
      "[[1.5 1.5]\n",
      " [1.5 1.5]\n",
      " [1.5 1.5]]\n"
     ]
    }
   ],
   "source": [
    "# 配列サイズと初期値を指定して生成も可能\n",
    "# 一次元配列\n",
    "x = np.zeros(4)   # zerosで初期値0で生成\n",
    "print(\"x = \", x)\n",
    "# 二次元配列\n",
    "y = np.full((3,2), 1.5)   # 3行2列、fullで任意の値(今回は1.5)で生成\n",
    "print(y)"
   ]
  },
  {
   "cell_type": "markdown",
   "id": "45a448c3-c54b-44b7-8de6-ca3c1238a1fe",
   "metadata": {},
   "source": [
    "**基本の処理**\n",
    "\n",
    "  * 大抵の計算は以下の3つの処理の組み合わせで実現できる"
   ]
  },
  {
   "cell_type": "markdown",
   "id": "9f09365c-7bef-4bb8-b8a8-2b0634c5467c",
   "metadata": {},
   "source": [
    "**1. 四則演算、等号、そのほか基本関数**"
   ]
  },
  {
   "cell_type": "code",
   "execution_count": 16,
   "id": "d8eaf012-241a-42e5-a776-c1f5182846f5",
   "metadata": {},
   "outputs": [
    {
     "name": "stdout",
     "output_type": "stream",
     "text": [
      "z1:  11 , z2:  21\n"
     ]
    }
   ],
   "source": [
    "x = 2\n",
    "y = 5\n",
    "z1 = 3 * x + y\n",
    "z2 = 3 * (x + y)\n",
    "print(\"z1: \", z1, \", z2: \", z2)"
   ]
  },
  {
   "cell_type": "code",
   "execution_count": 18,
   "id": "2a7df709-2805-48fe-9418-e1dccd05f420",
   "metadata": {},
   "outputs": [
    {
     "name": "stdout",
     "output_type": "stream",
     "text": [
      "2.5\n",
      "1.25\n"
     ]
    }
   ],
   "source": [
    "# 以下の形で計算も可能\n",
    "x = 5\n",
    "x /= 2\n",
    "print(x)\n",
    "# +=, -=, *= でも同様のことが可能\n",
    "x = x / 2\n",
    "print(x)"
   ]
  },
  {
   "cell_type": "code",
   "execution_count": 19,
   "id": "f037d1ac-13b3-42bf-98db-4557d4fae201",
   "metadata": {},
   "outputs": [
    {
     "name": "stdout",
     "output_type": "stream",
     "text": [
      "pi =  3.141592653589793\n",
      "sin(pi/2) =  1.0\n",
      "sqrt(2) =  1.4142135623730951\n",
      "exp(0) =  1.0\n",
      "ln(e) =  1.0\n"
     ]
    }
   ],
   "source": [
    "# 三角関数、対数関数などの基本的な関数も利用可能\n",
    "# ただし, mathモジュールが必要(今回はすでにインポート済み)\n",
    "\n",
    "# 円周率\n",
    "print(\"pi = \", math.pi)   # piの他にeもある\n",
    "\n",
    "# 三角関数\n",
    "print(\"sin(pi/2) = \", math.sin(math.pi/2))   # ラジアン単位\n",
    "\n",
    "# 平方根\n",
    "print(\"sqrt(2) = \", math.sqrt(2))\n",
    "\n",
    "# 指数、対数\n",
    "print(\"exp(0) = \", math.exp(0))\n",
    "print(\"ln(e) = \", math.log(math.e))"
   ]
  },
  {
   "cell_type": "markdown",
   "id": "9f19586f-6d3d-4683-a552-47b5a181ca79",
   "metadata": {},
   "source": [
    "**2. 繰り返し処理 (for文)**"
   ]
  },
  {
   "cell_type": "code",
   "execution_count": 21,
   "id": "fdd1c16b-fd64-4c23-9c4f-1834c070e076",
   "metadata": {},
   "outputs": [
    {
     "name": "stdout",
     "output_type": "stream",
     "text": [
      "['one', 'two', 'three', 'four']\n",
      "one\n",
      "two\n",
      "three\n",
      "four\n"
     ]
    }
   ],
   "source": [
    "# 以下のリストの内容を一個ずつ出力する\n",
    "numbers = [\"one\", \"two\", \"three\", \"four\"]\n",
    "\n",
    "print(numbers)\n",
    "\n",
    "for number in numbers:\n",
    "    print(number)"
   ]
  },
  {
   "cell_type": "markdown",
   "id": "fd97a4b7-8030-4e4e-8bb7-4e13690ee0c2",
   "metadata": {},
   "source": [
    "* for 取り出す変数 in 元のリスト:\n",
    "* 最後のコロンは必須\n",
    "* for文の内側である範囲はインデントで決まる\n",
    "* インデントは改行で自動で入るか、tabキーで入れる"
   ]
  },
  {
   "cell_type": "code",
   "execution_count": 22,
   "id": "bf94a3c9-25f5-4446-a077-b85b15983367",
   "metadata": {},
   "outputs": [
    {
     "name": "stdout",
     "output_type": "stream",
     "text": [
      "case1:\n",
      "one\n",
      "&\n",
      "two\n",
      "&\n",
      "three\n",
      "&\n",
      "four\n",
      "&\n",
      "\n",
      "case2:\n",
      "one\n",
      "two\n",
      "three\n",
      "four\n",
      "&\n"
     ]
    }
   ],
   "source": [
    "numbers = [\"one\", \"two\", \"three\", \"four\"]\n",
    "\n",
    "print(\"case1:\")\n",
    "for number in numbers:\n",
    "    print(number)\n",
    "    print(\"&\")\n",
    "\n",
    "print(\"\")\n",
    "print(\"case2:\")\n",
    "for number in numbers:\n",
    "    print(number)\n",
    "print(\"&\")"
   ]
  },
  {
   "cell_type": "code",
   "execution_count": 23,
   "id": "77858392-d627-40a7-ac65-40f039cf0c5f",
   "metadata": {},
   "outputs": [
    {
     "name": "stdout",
     "output_type": "stream",
     "text": [
      "i =  0\n",
      "numbers[i] =  one\n",
      "i =  1\n",
      "numbers[i] =  two\n",
      "i =  2\n",
      "numbers[i] =  three\n",
      "i =  3\n",
      "numbers[i] =  four\n"
     ]
    }
   ],
   "source": [
    "#　range を使うと配列のインデックスに対してもできる\n",
    "numbers = [\"one\", \"two\", \"three\", \"four\"]\n",
    "\n",
    "# リストの要素数を取得\n",
    "nsize = len(numbers)\n",
    "\n",
    "# 配列のインデックスを使うパターン\n",
    "for i in range(nsize):   # range(len(numbers))でもOK\n",
    "    print(\"i = \", i)\n",
    "    print(\"numbers[i] = \", numbers[i])"
   ]
  },
  {
   "cell_type": "code",
   "execution_count": 24,
   "id": "d980d800-6a76-433e-a40c-6fd46d97afad",
   "metadata": {},
   "outputs": [
    {
     "name": "stdout",
     "output_type": "stream",
     "text": [
      "1\n",
      "2\n",
      "3\n",
      "4\n"
     ]
    }
   ],
   "source": [
    "# インデックスを使う方法はndarrayに対しても使える\n",
    "numbers = np.zeros(4, dtype=int)\n",
    "\n",
    "for i in range(numbers.size):\n",
    "    numbers[i] = i + 1\n",
    "    print(numbers[i])"
   ]
  },
  {
   "cell_type": "markdown",
   "id": "786d343b-2b4d-4066-a4df-a04d8bb0270d",
   "metadata": {},
   "source": [
    "**3.条件分岐 (if文)**"
   ]
  },
  {
   "cell_type": "code",
   "execution_count": 25,
   "id": "a0374811-02c6-4d24-b37a-2caf9fe20cfd",
   "metadata": {},
   "outputs": [
    {
     "name": "stdout",
     "output_type": "stream",
     "text": [
      "when a = 0\n",
      "a <= 0\n",
      "when a = 2\n",
      "a >= 2\n"
     ]
    }
   ],
   "source": [
    "a = 0\n",
    "print(\"when a = 0\")\n",
    "if (a > 0):\n",
    "    print(\"a > 0\")\n",
    "else:\n",
    "    print(\"a <= 0\")\n",
    "\n",
    "a = 2\n",
    "print(\"when a = 2\")\n",
    "if a < 1:\n",
    "    print(\"a <= 0\")\n",
    "elif a >= 1 and a < 2:\n",
    "    print(\"a = 1\")\n",
    "else:\n",
    "    print(\"a >= 2\")"
   ]
  },
  {
   "cell_type": "markdown",
   "id": "310a8a9b-ca74-4997-85d6-fb892185b08f",
   "metadata": {},
   "source": [
    "* for文と同様インデントで範囲指定\n",
    "* 使えるのは>, <, <=, >=, ==, !=, and, or, not\n",
    "* ifの後の式をTrue or Falseで判定しているので、bool型の変数でも良い\n",
    "* 条件分岐のガバに注意"
   ]
  },
  {
   "cell_type": "code",
   "execution_count": 26,
   "id": "dcd53ab4-5a7c-4d43-8f25-5da5034bbc80",
   "metadata": {},
   "outputs": [
    {
     "name": "stdout",
     "output_type": "stream",
     "text": [
      "flag is true!\n"
     ]
    }
   ],
   "source": [
    "flag = True\n",
    "if flag:\n",
    "    print(\"flag is true!\")"
   ]
  },
  {
   "cell_type": "code",
   "execution_count": 27,
   "id": "48b26c38-e093-497b-820a-dfb66bb58a89",
   "metadata": {},
   "outputs": [
    {
     "name": "stdout",
     "output_type": "stream",
     "text": [
      "x = 1\n"
     ]
    }
   ],
   "source": [
    "# if文の条件は上から順に検討される\n",
    "# なのでこういうガバが起こる\n",
    "x = 2\n",
    "\n",
    "if (x < 1):\n",
    "    print(\"x = 0\")\n",
    "elif(x >= 1):\n",
    "    print(\"x = 1\")\n",
    "elif(x >= 2):\n",
    "    print(\"x = 2\")"
   ]
  },
  {
   "cell_type": "markdown",
   "id": "02086471-beb1-402f-ba9c-e11ecf949fff",
   "metadata": {},
   "source": [
    "**変数のスコープ**\n",
    "   * スコープとは？→変数が定義されている範囲(領域)\n",
    "   * スコープの外に出た瞬間その変数は参照できなくなる"
   ]
  },
  {
   "cell_type": "code",
   "execution_count": 28,
   "id": "b34549d8-a6cf-4a54-a28a-1b133f3ac360",
   "metadata": {},
   "outputs": [
    {
     "name": "stdout",
     "output_type": "stream",
     "text": [
      "1.5\n",
      "2.5\n"
     ]
    }
   ],
   "source": [
    "global_x = 1.5\n",
    "print(global_x)\n",
    "\n",
    "flag = True\n",
    "if flag:\n",
    "    local_x = 2.5\n",
    "    print(local_x)"
   ]
  },
  {
   "cell_type": "markdown",
   "id": "76b1bb0a-6eff-4e39-998a-10fe368891ef",
   "metadata": {},
   "source": [
    "  * ただし、pythonのスコープは曖昧でよくわからなかったりする"
   ]
  },
  {
   "cell_type": "code",
   "execution_count": 29,
   "id": "dda11431-f766-4e88-9a68-bd0a87da6c52",
   "metadata": {},
   "outputs": [
    {
     "name": "stdout",
     "output_type": "stream",
     "text": [
      "2.5\n"
     ]
    }
   ],
   "source": [
    "# 例えばこの操作はfortranやCだと一発でエラーになる\n",
    "\n",
    "flag = True\n",
    "if flag:\n",
    "    local_x = 2.5\n",
    "print(local_x)"
   ]
  },
  {
   "cell_type": "markdown",
   "id": "9de04157-776a-4b70-b037-f7ea33caafe8",
   "metadata": {},
   "source": [
    "  * スコープは基本的なものだが、バグがあってもわかりにくい\n",
    "  * やっていくなかで覚えるしかない\n",
    "  * こういう概念がある、ということだけ知っておく"
   ]
  },
  {
   "cell_type": "markdown",
   "id": "f6180987-05e9-45e6-95f7-dab6a7333da0",
   "metadata": {},
   "source": [
    "**ファイルの読み込み**\n",
    "  * とりあえずtiffファイルの読み込みだけ扱う\n",
    "  * 一般的なテキストファイルや表ファイルの読み込みはnkmk noteを参考に"
   ]
  },
  {
   "cell_type": "code",
   "execution_count": 30,
   "id": "fc62a5a0-21c4-47d3-a449-7ead8c97fdcf",
   "metadata": {},
   "outputs": [],
   "source": [
    "# tifffileというモジュールをインポート\n",
    "# 表示用にmatplotlibもインポート\n",
    "import tifffile as tiff\n",
    "from matplotlib import pyplot as plt"
   ]
  },
  {
   "cell_type": "code",
   "execution_count": 31,
   "id": "dab9bd07-548c-4ffe-9b60-223ee272198c",
   "metadata": {},
   "outputs": [
    {
     "name": "stdout",
     "output_type": "stream",
     "text": [
      "type of image:  <class 'numpy.ndarray'>\n",
      "size of image:  (112, 112)\n"
     ]
    },
    {
     "data": {
      "text/plain": [
       "<matplotlib.image.AxesImage at 0x116af41a0>"
      ]
     },
     "execution_count": 31,
     "metadata": {},
     "output_type": "execute_result"
    },
    {
     "data": {
      "image/png": "[encoded data removed]",
      "text/plain": [
       "<Figure size 640x480 with 1 Axes>"
      ]
     },
     "metadata": {},
     "output_type": "display_data"
    }
   ],
   "source": [
    "# 画像の読み込み\n",
    "fn_image = './data/test.tif'\n",
    "image = tiff.imread(fn_image)\n",
    "\n",
    "# 画像の形式やサイズを確認\n",
    "print(\"type of image: \",type(image))\n",
    "print(\"size of image: \", image.shape)\n",
    "\n",
    "\n",
    "plt.imshow(image)"
   ]
  },
  {
   "cell_type": "markdown",
   "id": "9cba0958-92c2-4b9e-9256-5af6695381d4",
   "metadata": {},
   "source": [
    "**[解析パート]マスクの作成**\n",
    "  * 今日勉強したことを使って上の画像のマスクを作ってみる\n",
    "  * 必要な処理は「読み込んだ画像の全ピクセルについてある値以上なら1, そうでないなら0にする」\n",
    "  * for文とif文を組み合わせる"
   ]
  },
  {
   "cell_type": "code",
   "execution_count": 36,
   "id": "4263ebe1-2f1c-480b-a1c2-3198922e8bb7",
   "metadata": {},
   "outputs": [
    {
     "data": {
      "image/png": "[encoded data removed]",
      "text/plain": [
       "<Figure size 640x480 with 1 Axes>"
      ]
     },
     "metadata": {},
     "output_type": "display_data"
    }
   ],
   "source": [
    "# 画像の読み込み\n",
    "fn_image = './data/test.tif'\n",
    "image = tiff.imread(fn_image)\n",
    "\n",
    "# サイズの取り出し\n",
    "xsize = image.shape[0]\n",
    "ysize = image.shape[1]\n",
    "\n",
    "# 画像と同じサイズのマスク用配列を生成\n",
    "mask = np.zeros((xsize,ysize), dtype=float)\n",
    "\n",
    "# 閾値を決定\n",
    "thr = 0.06\n",
    "\n",
    "# 全ピクセルについて繰り返し処理\n",
    "for i in range(xsize):\n",
    "    for j in range(ysize):\n",
    "        # pixel(i,j)が閾値以上なら1, そうでないなら何もしない(元々0だから)\n",
    "        if image[i, j] > thr:\n",
    "            mask[i, j] = 1.\n",
    "\n",
    "# できたマスクを表示\n",
    "plt.imshow(mask)\n",
    "\n",
    "# マスクを書き出し\n",
    "fn_mask = './course01/mask.tif'\n",
    "tiff.imwrite(fn_mask,mask)"
   ]
  },
  {
   "cell_type": "markdown",
   "id": "6a13f05e-044e-4856-9099-2c7b9411c830",
   "metadata": {},
   "source": [
    "**実習課題**\n",
    "  * 上で作成したマスクを実際にテスト画像にかけてみましょう\n",
    "  * new_imageという配列を生成して、マスクしたテスト画像の画像値を格納してください\n",
    "  * マスクは先ほど作ったmask.tifを読み込んでみましょう\n",
    "  * 処理が終わったnew_imageを表示して、maskと同様に書き出してみましょう"
   ]
  },
  {
   "cell_type": "markdown",
   "id": "5661da3c-973f-4a7b-9282-f33a3375c542",
   "metadata": {},
   "source": [
    "**発展課題**\n",
    "  * 円形マスクを作ってみましょう\n",
    "  * どう作るかは任せますが、今日勉強したことだけでできるはずです"
   ]
  },
  {
   "cell_type": "code",
   "execution_count": null,
   "id": "a4541a01-014c-4c6b-b7b2-327eeb52a191",
   "metadata": {},
   "outputs": [],
   "source": []
  },
  {
   "cell_type": "code",
   "execution_count": null,
   "id": "758a77da-20a3-4a48-b44f-ccd26bf1f5c8",
   "metadata": {},
   "outputs": [],
   "source": []
  }
 ],
 "metadata": {
  "kernelspec": {
   "display_name": "Python 3 (ipykernel)",
   "language": "python",
   "name": "python3"
  },
  "language_info": {
   "codemirror_mode": {
    "name": "ipython",
    "version": 3
   },
   "file_extension": ".py",
   "mimetype": "text/x-python",
   "name": "python",
   "nbconvert_exporter": "python",
   "pygments_lexer": "ipython3",
   "version": "3.12.4"
  }
 },
 "nbformat": 4,
 "nbformat_minor": 5
}

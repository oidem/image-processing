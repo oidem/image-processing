{
 "cells": [
  {
   "cell_type": "markdown",
   "id": "bd40b90e-3547-49e2-aa25-56e8ffc0fecd",
   "metadata": {},
   "source": [
    "**今回の実習内容**\n",
    " * ビニング\n",
    " * フーリエクロップ\n",
    " * パディング\n",
    " * 実習課題"
   ]
  },
  {
   "cell_type": "code",
   "execution_count": null,
   "id": "69b3f27c-8e84-47ed-b16a-a498ba08c8b5",
   "metadata": {},
   "outputs": [],
   "source": [
    "import sys,math,cmath,os,copy\n",
    "import numpy as np\n",
    "from numpy import fft\n",
    "from matplotlib import pyplot as plt\n",
    "import tifffile as tiff\n",
    "import mrcfile as mrc\n",
    "\n",
    "# OpenCV\n",
    "import cv2"
   ]
  },
  {
   "cell_type": "code",
   "execution_count": null,
   "id": "3d25ed1c-9ac6-4f57-8f73-03886ce2951f",
   "metadata": {},
   "outputs": [],
   "source": [
    "# テストデータの読み込み\n",
    "fn_yoshi = \"./data/course4_yoshizawa.tif\"\n",
    "yoshi = tiff.imread(fn_yoshi)\n",
    "\n",
    "# オリジナルの画像サイズ(とその半分)\n",
    "orisize = yoshi.shape[0]\n",
    "halfori = int(orisize / 2)\n",
    "print(\"input image size: \", orisize)\n",
    "\n",
    "fig, ax = plt.subplots()\n",
    "\n",
    "ax.imshow(yoshi, cmap='Greys')"
   ]
  },
  {
   "cell_type": "markdown",
   "id": "fbe23e51-6fe8-411f-a975-f6a3e743d518",
   "metadata": {},
   "source": [
    "**ビニングとフーリエクロップを比較してみる**\n",
    " * 実空間像と逆空間像、それぞれで違いを見る"
   ]
  },
  {
   "cell_type": "code",
   "execution_count": null,
   "id": "45657959-ae3c-4395-9377-ae6883a65377",
   "metadata": {},
   "outputs": [],
   "source": [
    "# 実空間でビニング\n",
    "binfactor = 2\n",
    "\n",
    "# ビニング後のサイズ\n",
    "binsize = int(orisize / binfactor)\n",
    "\n",
    "# ビニング後の配列を初期化\n",
    "yoshi_bin = np.zeros((binsize,binsize))\n",
    "\n",
    "# ビニング\n",
    "for i in range(orisize):\n",
    "    ibin = math.floor(i/binfactor)\n",
    "    for j in range(orisize):\n",
    "        jbin = math.floor(j/binfactor)\n",
    "\n",
    "        yoshi_bin[ibin,jbin] += yoshi[i,j]\n",
    "\n",
    "yoshi_bin /= binfactor\n",
    "\n",
    "# ビニング前と比較(左がビニング後)\n",
    "fig, ax = plt.subplots(nrows=1, ncols=2, figsize=(8,4))\n",
    "\n",
    "ax[0].imshow(yoshi_bin, cmap='Greys')\n",
    "ax[1].imshow(yoshi, cmap='Greys')"
   ]
  },
  {
   "cell_type": "code",
   "execution_count": null,
   "id": "80fd63d5-1536-4500-8eb5-75a4db5ed3b9",
   "metadata": {},
   "outputs": [],
   "source": [
    "# 逆空間でのフーリエクロップ\n",
    "# cryosparcと同様にクロップ後のサイズを指定\n",
    "cropsize = 150   # should be even\n",
    "halfcrop = int(cropsize / 2)\n",
    "\n",
    "# 逆空間像を計算\n",
    "rec_yoshi = fft.fft2(yoshi)\n",
    "\n",
    "# クロップ後の逆空間像用の配列を初期化\n",
    "rec_yoshi_crop = np.zeros((cropsize,cropsize),dtype=complex)\n",
    "\n",
    "# クロップ\n",
    "# np.fftでは逆空間中心が四隅になっていることに注意\n",
    "rec_yoshi_crop[0:halfcrop,0:halfcrop] = rec_yoshi[0:halfcrop,0:halfcrop]               # 左上\n",
    "rec_yoshi_crop[0:halfcrop,halfcrop:]  = rec_yoshi[0:halfcrop,orisize-halfcrop:]        # 右上\n",
    "rec_yoshi_crop[halfcrop:,0:halfcrop]  = rec_yoshi[orisize-halfcrop:,0:halfcrop]        # 左下\n",
    "rec_yoshi_crop[halfcrop:,halfcrop:]   = rec_yoshi[orisize-halfcrop:,orisize-halfcrop:] # 右下\n",
    "\n",
    "# 逆フーリエ変換で実空間に戻す\n",
    "yoshi_crop = fft.ifft2(rec_yoshi_crop).real\n",
    "\n",
    "# クロップ前と比較(左がクロップ後)\n",
    "fig, ax = plt.subplots(nrows=1, ncols=2, figsize=(8,4))\n",
    "\n",
    "ax[0].imshow(yoshi_crop, cmap='Greys')\n",
    "ax[1].imshow(yoshi, cmap='Greys')"
   ]
  },
  {
   "cell_type": "code",
   "execution_count": null,
   "id": "651f8d39-d60f-4377-8847-95868d698ffc",
   "metadata": {},
   "outputs": [],
   "source": [
    "# ビニング像とクロップ像を比較(実空間)\n",
    "\n",
    "std_bin = np.std(yoshi_bin)\n",
    "std_crop = np.std(yoshi_crop)\n",
    "\n",
    "yoshi_crop /= (std_crop / std_bin)\n",
    "\n",
    "diff_real = yoshi_bin - yoshi_crop\n",
    "\n",
    "# ビニング像、クロップ像、差分\n",
    "fig, ax = plt.subplots(nrows=1, ncols=3, figsize=(12,4))\n",
    "\n",
    "# 画素値の最大、最小が微妙に違うのでコントラストの付け方を統一\n",
    "ax[0].imshow(yoshi_bin, cmap='Greys', vmin=-1.218, vmax=5.388)\n",
    "ax[1].imshow(yoshi_crop, cmap='Greys', vmin=-1.218, vmax=5.388)\n",
    "ax[2].imshow(diff_real, cmap='Greys', vmin=-1.218, vmax=5.388)"
   ]
  },
  {
   "cell_type": "markdown",
   "id": "da0a0611-1e79-4c59-81a3-f77a05c21e59",
   "metadata": {},
   "source": [
    "**パディング**\n",
    " * パディングの関数を定義\n",
    " * bガラクトシダーゼのスペックルを見てみる\n",
    " * 回転補間の精度を見てみる"
   ]
  },
  {
   "cell_type": "code",
   "execution_count": null,
   "id": "0ca4c03f-56df-4eca-bbfe-6f32e975aefe",
   "metadata": {},
   "outputs": [],
   "source": [
    "# パディングの関数を定義しておく\n",
    "def padding(image, factor):\n",
    "    # paddingのサイズを定義\n",
    "    padding_size = np.array([int(image.shape[0]*(factor-1)),int(image.shape[1]*(factor-1))])\n",
    "    margin = np.array([int(padding_size[0]/2),int(padding_size[1]/2)])\n",
    "    return cv2.copyMakeBorder(image, margin[1], margin[1], margin[0], margin[0], cv2.BORDER_CONSTANT, 0)"
   ]
  },
  {
   "cell_type": "code",
   "execution_count": null,
   "id": "db00e0bc-ae89-4249-b7c2-37690dee6e53",
   "metadata": {},
   "outputs": [],
   "source": [
    "# まずはbgalの画像を読み込み\n",
    "fn_bgal = \"./data/course5_bgal.tif\"\n",
    "\n",
    "# bgalの投影像を読み込み\n",
    "bgal = tiff.imread(fn_bgal)\n",
    "print(\"image size of bgal: \", bgal.shape[0], \" x \", bgal.shape[1])\n",
    "\n",
    "# 先ほど定義した関数でpadding imageも作る\n",
    "# 2倍にパディング\n",
    "bgal_pad = padding(bgal, 2)\n",
    "print(\"image size of padded bgal: \", bgal_pad.shape[0], \" x \", bgal_pad.shape[1])\n",
    "\n",
    "print(np.max(bgal),np.min(bgal))\n",
    "fig, ax = plt.subplots(nrows=1, ncols=2, figsize=(8,4))\n",
    "\n",
    "ax[0].imshow(bgal, cmap='Greys')\n",
    "ax[1].imshow(bgal_pad, cmap='Greys')"
   ]
  },
  {
   "cell_type": "code",
   "execution_count": null,
   "id": "2a7537cb-0c48-4a00-ad07-7033fa8e5dc3",
   "metadata": {},
   "outputs": [],
   "source": [
    "# 逆空間像のスペックルを比較してみる\n",
    "rec_bgal = fft.fftshift(fft.fft2(bgal))\n",
    "rec_bgal_pad = fft.fftshift(fft.fft2(bgal_pad))\n",
    "\n",
    "ampl_bgal = np.abs(rec_bgal)\n",
    "ampl_bgal_pad = np.abs(rec_bgal_pad)\n",
    "\n",
    "second_min = np.unique(ampl_bgal)[1]\n",
    "for i in range(rec_bgal.shape[0]):\n",
    "    for j in range(rec_bgal.shape[1]):\n",
    "        val = ampl_bgal[i,j]\n",
    "        if val < second_min:\n",
    "            ampl_bgal[i,j] = np.log(second_min)\n",
    "        else:\n",
    "            ampl_bgal[i,j] = np.log(ampl_bgal[i,j])\n",
    "\n",
    "second_min = np.unique(ampl_bgal_pad)[1]\n",
    "for i in range(rec_bgal_pad.shape[0]):\n",
    "    for j in range(rec_bgal_pad.shape[1]):\n",
    "        val = ampl_bgal_pad[i,j]\n",
    "        if val < second_min:\n",
    "            ampl_bgal_pad[i,j] = np.log(second_min)\n",
    "        else:\n",
    "            ampl_bgal_pad[i,j] = np.log(ampl_bgal_pad[i,j])\n",
    "\n",
    "fig, ax = plt.subplots(nrows=1, ncols=2, figsize=(8,4))\n",
    "\n",
    "ax[0].imshow(ampl_bgal, cmap='viridis')\n",
    "ax[1].imshow(ampl_bgal_pad, cmap='viridis') # パディングしても表示される逆空間像の範囲は同じ"
   ]
  },
  {
   "cell_type": "code",
   "execution_count": null,
   "id": "7a1f531d-bd54-4cc6-b3d8-b436fcaefee1",
   "metadata": {},
   "outputs": [],
   "source": [
    "# よくわからんので逆空間像を拡大して比較\n",
    "\n",
    "center = [int(rec_bgal.shape[0]/2),int(rec_bgal.shape[1]/2)]\n",
    "print(type(rec_bgal[0,0]))\n",
    "\n",
    "fig, ax = plt.subplots(nrows=1, ncols=2, figsize=(8,4))\n",
    "\n",
    "# 画像左上が逆空間中心\n",
    "ax[0].imshow(ampl_bgal[center[0]:center[0]+40,center[1]:center[1]+40], cmap='viridis')\n",
    "ax[1].imshow(ampl_bgal_pad[2*center[0]:2*(center[0]+40),2*center[1]:2*(center[1]+40)], cmap='viridis')"
   ]
  },
  {
   "cell_type": "markdown",
   "id": "759a7915-696e-4092-88db-8d750cb643c2",
   "metadata": {},
   "source": [
    "**実習課題**\n",
    "\n",
    "**本当はこの後逆空間像の回転をして、パディングの影響を見るつもりでした**\n",
    "\n",
    "**なぜか回転するとよくわからないことが起きたので一旦別の課題にします**\n",
    " * 以下の2枚の画像を作ってください\n",
    " * 1枚目: course5_bgal.tifを90度回転させた像\n",
    " * 2枚目: course5_bgal.tifを10度ずつ9回、計90度回転させた像\n",
    " * 像の回転は02_correlationで使ったcv2.getRotationMatrix2Dとcv2.warpAffineを使ってください\n",
    " * 補完は全てLINEARを使ってください\n",
    " * 最後に、2枚の像のFRC(FSCの二次元版)を計算してください\n",
    " * 下の関数が使えますが、「画像中心が逆空間の原点になっている逆空間像」を入力してください。\n",
    " * frc = calcFRC(rec1,rec2)"
   ]
  },
  {
   "cell_type": "code",
   "execution_count": null,
   "id": "4f20644b-6ca9-451c-b782-56d1cadfa483",
   "metadata": {},
   "outputs": [],
   "source": [
    "# input: 逆空間像rec1とrec2(complexのnp.ndarray)\n",
    "# また、rec1, rec2は画像中心が逆空間原点となっていると仮定\n",
    "# output: 空間周波数とFRCを格納した二次元配列\n",
    "# 1列目: 空間周波数、2列目: FRC\n",
    "def calcFRC(rec1,rec2):\n",
    "    size = rec1.shape[0]\n",
    "    center = np.array([(size/2)-0.5,(size/2)-0.5])\n",
    "\n",
    "    frc = np.zeros((size/2,2))\n",
    "    den1 = np.zeros(size/2)\n",
    "    den2 = np.zeros(size/2)\n",
    "\n",
    "    for i in range(rec1.shape[0]):\n",
    "        kx = float(i) - center[0]\n",
    "        for j in range(rec1.shape[0]):\n",
    "            ky = float(j) - center[1]\n",
    "\n",
    "            idx = int(np.sqrt(kx*kx + ky*ky))\n",
    "            z1 = rec1[i,j]\n",
    "            z2 = rec2[i,j]\n",
    "            absz1 = np.abs(z1)\n",
    "            absz2 = np.abs(z2)\n",
    "\n",
    "            frc[idx] += (z1.conjugate() * z2).real        \n",
    "            den1[idx] += absz1*absz1\n",
    "            den2[idx] += absz2*absz2\n",
    "\n",
    "    for i in range(frc.shape[0]):\n",
    "        frc[i,0] = (float(i) + 0.5) / size\n",
    "        frc[i,1] /= np.sqrt(den1[i]*den2[i])\n",
    "\n",
    "    return copy.deepcopy(frc)"
   ]
  }
 ],
 "metadata": {
  "kernelspec": {
   "display_name": "Python 3 (ipykernel)",
   "language": "python",
   "name": "python3"
  },
  "language_info": {
   "codemirror_mode": {
    "name": "ipython",
    "version": 3
   },
   "file_extension": ".py",
   "mimetype": "text/x-python",
   "name": "python",
   "nbconvert_exporter": "python",
   "pygments_lexer": "ipython3",
   "version": "3.12.4"
  }
 },
 "nbformat": 4,
 "nbformat_minor": 5
}

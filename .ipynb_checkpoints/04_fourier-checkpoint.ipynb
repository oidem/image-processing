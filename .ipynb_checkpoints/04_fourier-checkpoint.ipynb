{
 "cells": [
  {
   "cell_type": "markdown",
   "id": "ef789d40-d96c-4865-82d6-29b7e1efea15",
   "metadata": {},
   "source": [
    "**今回の実習内容**\n",
    " * numpy.fftによるフーリエ変換、逆フーリエ変換\n",
    " * 実習課題"
   ]
  },
  {
   "cell_type": "code",
   "execution_count": null,
   "id": "8eb78371-2e8f-4955-9891-a56f2fbc0806",
   "metadata": {},
   "outputs": [],
   "source": [
    "import sys,math,cmath,os,copy\n",
    "import numpy as np\n",
    "from numpy import fft\n",
    "from matplotlib import pyplot as plt\n",
    "from matplotlib import colors\n",
    "import tifffile as tiff"
   ]
  },
  {
   "cell_type": "code",
   "execution_count": null,
   "id": "835674ef-22b7-4689-97a6-db657ecb6580",
   "metadata": {},
   "outputs": [],
   "source": [
    "# テストデータ(吉沢亮)の読み込み\n",
    "fn_yoshi = \"./data/course4_yoshizawa.tif\"\n",
    "yoshi = tiff.imread(fn_yoshi)\n",
    "\n",
    "# テストデータ(コーギー)の読み込み\n",
    "fn_corgi = \"./data/course4_corgi.tif\"\n",
    "corgi = tiff.imread(fn_corgi)\n",
    "\n",
    "fig, ax = plt.subplots(nrows=1, ncols=2)\n",
    "\n",
    "ax[0].imshow(yoshi, cmap='Greys')\n",
    "ax[1].imshow(corgi, cmap='Greys')\n"
   ]
  },
  {
   "cell_type": "markdown",
   "id": "f14b5d7b-6abe-4b59-8c6e-4f7079620b68",
   "metadata": {},
   "source": [
    "**フーリエ変換してみる**\n",
    " * 必要なモジュールはnp.fftモジュール\n",
    " * 二次元フーリエ変換: fft.fft2\n",
    " * 二次元逆フーリエ変換: fft.ifft2"
   ]
  },
  {
   "cell_type": "code",
   "execution_count": null,
   "id": "86749a92-2ddd-40b9-aae1-f9f2b14ec1ca",
   "metadata": {},
   "outputs": [],
   "source": [
    "# 吉沢亮をフーリエ変換してみる\n",
    "rec_yoshi = fft.fft2(yoshi)\n",
    "\n",
    "# 振幅を対数表示するための処理\n",
    "ampl = np.abs(rec_yoshi)\n",
    "second_min = np.unique(ampl)[1]\n",
    "for i in range(rec_yoshi.shape[0]):\n",
    "    for j in range(rec_yoshi.shape[1]):\n",
    "        val = ampl[i,j]\n",
    "        if val < second_min:\n",
    "            ampl[i,j] = np.log(second_min)\n",
    "        else:\n",
    "            ampl[i,j] = np.log(ampl[i,j])\n",
    "\n",
    "fig, ax = plt.subplots(nrows=1, ncols=2)\n",
    "\n",
    "ax[0].imshow(yoshi, cmap='Greys')\n",
    "ax[1].imshow(ampl, cmap='viridis')\n"
   ]
  },
  {
   "cell_type": "markdown",
   "id": "0c52f267-ac34-413e-a514-c8a4e93b9841",
   "metadata": {},
   "source": [
    "* 実はnp.fftの周期はπずれている(逆空間の原点が四隅になっている)\n",
    "* 逆空間原点を画像中心にするにはfft.fftshiftを使う"
   ]
  },
  {
   "cell_type": "code",
   "execution_count": null,
   "id": "e74c6ef4-daeb-4d55-a279-beae7570cc1f",
   "metadata": {},
   "outputs": [],
   "source": [
    "# 吉沢亮をフーリエ変換してみる\n",
    "rec_yoshi = fft.fftshift(fft.fft2(yoshi))\n",
    "\n",
    "# 振幅を対数表示するための処理\n",
    "ampl = np.abs(rec_yoshi)\n",
    "second_min = np.unique(ampl)[1]\n",
    "for i in range(rec_yoshi.shape[0]):\n",
    "    for j in range(rec_yoshi.shape[1]):\n",
    "        val = ampl[i,j]\n",
    "        if val < second_min:\n",
    "            ampl[i,j] = np.log(second_min)\n",
    "        else:\n",
    "            ampl[i,j] = np.log(ampl[i,j])\n",
    "\n",
    "# 対数をcmath.phaseで抜き出す\n",
    "phase = np.zeros(rec_yoshi.shape)\n",
    "for i in range(rec_yoshi.shape[0]):\n",
    "    for j in range(rec_yoshi.shape[1]):\n",
    "        phase[i,j] = cmath.phase(rec_yoshi[i,j])\n",
    "\n",
    "fig, ax = plt.subplots(nrows=1, ncols=3, figsize=(12,4))\n",
    "\n",
    "ax[0].imshow(yoshi, cmap='Greys') # 元画像\n",
    "ax[1].imshow(ampl, cmap='viridis') # 振幅(対数)\n",
    "ax[2].imshow(phase, cmap='twilight') # 位相\n"
   ]
  },
  {
   "cell_type": "code",
   "execution_count": null,
   "id": "824d8575-f339-4e6f-bf9f-59e139fca2d2",
   "metadata": {},
   "outputs": [],
   "source": [
    "# コーギーをフーリエ変換してみる\n",
    "rec_corgi = fft.fftshift(fft.fft2(corgi))\n",
    "\n",
    "# 振幅を対数表示するための処理\n",
    "ampl = np.abs(rec_corgi)\n",
    "second_min = np.unique(ampl)[1]\n",
    "for i in range(rec_corgi.shape[0]):\n",
    "    for j in range(rec_corgi.shape[1]):\n",
    "        val = ampl[i,j]\n",
    "        if val < second_min:\n",
    "            ampl[i,j] = np.log(second_min)\n",
    "        else:\n",
    "            ampl[i,j] = np.log(ampl[i,j])\n",
    "\n",
    "# 対数をcmath.phaseで抜き出す\n",
    "phase = np.zeros(rec_corgi.shape)\n",
    "for i in range(rec_corgi.shape[0]):\n",
    "    for j in range(rec_corgi.shape[1]):\n",
    "        phase[i,j] = cmath.phase(rec_corgi[i,j])\n",
    "\n",
    "fig, ax = plt.subplots(nrows=1, ncols=3, figsize=(12,4))\n",
    "\n",
    "ax[0].imshow(corgi, cmap='Greys') # 元画像\n",
    "ax[1].imshow(ampl, cmap='viridis') # 振幅(対数)\n",
    "ax[2].imshow(phase, cmap='twilight') # 振幅(対数)\n"
   ]
  },
  {
   "cell_type": "code",
   "execution_count": null,
   "id": "20089c19-8337-4070-a21f-b54877f3199b",
   "metadata": {},
   "outputs": [],
   "source": [
    "# 吉沢亮とコーギーの位相を交換する\n",
    "\n",
    "phase_corgi = np.zeros(rec_corgi.shape)\n",
    "phase_yoshi = np.zeros(rec_yoshi.shape)\n",
    "ampl_corgi = np.zeros(rec_corgi.shape)\n",
    "ampl_yoshi = np.zeros(rec_yoshi.shape)\n",
    "for i in range(rec_corgi.shape[0]):\n",
    "    for j in range(rec_corgi.shape[1]):\n",
    "        phase_corgi[j,i] = cmath.phase(rec_corgi[j,i])\n",
    "        phase_yoshi[j,i] = cmath.phase(rec_yoshi[j,i])\n",
    "        ampl_corgi[j,i] = np.abs(rec_corgi[j,i])\n",
    "        ampl_yoshi[j,i] = np.abs(rec_yoshi[j,i])\n",
    "\n",
    "for i in range(rec_corgi.shape[0]):\n",
    "    for j in range(rec_corgi.shape[1]):\n",
    "        rec_yoshi[j,i] = complex(np.cos(phase_corgi[j,i]),np.sin(phase_corgi[j,i]))\n",
    "        rec_yoshi[j,i] *= ampl_yoshi[j,i]\n",
    "        rec_corgi[j,i] = complex(np.cos(phase_yoshi[j,i]),np.sin(phase_yoshi[j,i]))\n",
    "        rec_corgi[j,i] *= ampl_corgi[j,i]\n",
    "\n",
    "# 逆フーリエ変換で戻す\n",
    "ifft_corgi = fft.ifft2(fft.ifftshift(rec_corgi))\n",
    "new_corgi = ifft_corgi.real\n",
    "ifft_yoshi = fft.ifft2(fft.ifftshift(rec_yoshi))\n",
    "new_yoshi = ifft_yoshi.real\n",
    "\n",
    "fig, ax = plt.subplots(nrows=1, ncols=2, figsize=(8,4))\n",
    "\n",
    "ax[0].imshow(new_yoshi, cmap='Greys')\n",
    "ax[1].imshow(new_corgi, cmap='Greys')\n"
   ]
  },
  {
   "cell_type": "markdown",
   "id": "499d2e2c-d5ae-4e69-934e-3b7f59d5a7a1",
   "metadata": {},
   "source": [
    "**実習課題**\n",
    " * 吉沢亮とコーギーどちらでもいいので分解能5Åのローパスフィルターをかけてみましょう\n",
    " * ピクセルサイズは1Å/pixelと仮定してください\n",
    " * 逆空間上でのピクセル位置(i,j)を逆空間座標(kx,ky)に変換するには\n",
    " * kx = i / (2 * pi * boxsize)\n",
    " * ky = i / (2 * pi * boxsize)\n",
    " * としてください. ただし, i,jは中心から数えた位置(-boxsize/2 ~ boxsize/2)です"
   ]
  }
 ],
 "metadata": {
  "kernelspec": {
   "display_name": "Python 3 (ipykernel)",
   "language": "python",
   "name": "python3"
  },
  "language_info": {
   "codemirror_mode": {
    "name": "ipython",
    "version": 3
   },
   "file_extension": ".py",
   "mimetype": "text/x-python",
   "name": "python",
   "nbconvert_exporter": "python",
   "pygments_lexer": "ipython3",
   "version": "3.12.4"
  }
 },
 "nbformat": 4,
 "nbformat_minor": 5
}
